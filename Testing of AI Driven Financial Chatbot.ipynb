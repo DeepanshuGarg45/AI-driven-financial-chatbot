{
 "cells": [
  {
   "cell_type": "markdown",
   "id": "67d6fcfd",
   "metadata": {},
   "source": [
    "### The AI powered Financial Chatbot Prototype currently responds only to the given set of questions for selected companies and fiscal years wiz: --"
   ]
  },
  {
   "cell_type": "markdown",
   "id": "36e384f9",
   "metadata": {},
   "source": [
    "<ol type=\"1\">\n",
    "    <li> What is the total revenue?</li>\n",
    "    <li> What is the Net Income?</li>\n",
    "    <li> What is the sum of total assets?</li>\n",
    "    <li> What is the sum of total liabilities?</li>\n",
    "    <li> What is cash flow from operating activities?</li>\n",
    "    <li> What is the revenue growth(%) ?</li>\n",
    "    <li> What is the net income growth(%) ?</li>\n",
    "    <li> What is the assets growth(%) ?</li>\n",
    "    <li> What is the liabilities growth(%) ?</li>\n",
    "    <li> What is the cash flow from operations growth(%) ?</li>\n",
    "    <li> What is the year by year average revenue growth rate(%)?</li>\n",
    "    <li> What is the year by year average net income growth rate(%)?</li>\n",
    "    <li> What is the year by year average assets growth rate(%)?</li>  \n",
    "    <li> What is the year by year average liabilities growth rate(%)?</li>\n",
    "    <li> What is the year by year average cash flow from operations growth rate(%)?</li>\n",
    "</ol>"
   ]
  },
  {
   "cell_type": "code",
   "execution_count": null,
   "id": "f582bf8a",
   "metadata": {},
   "outputs": [],
   "source": [
    "import pandas as pd\n",
    "data = pd.read_csv('final_data_report.csv')\n",
    "data_2 = pd.read_csv('Summary_final_report.csv')"
   ]
  },
  {
   "cell_type": "code",
   "execution_count": null,
   "id": "f10ccc78",
   "metadata": {},
   "outputs": [],
   "source": [
    "data"
   ]
  },
  {
   "cell_type": "code",
   "execution_count": null,
   "id": "a612fc8d",
   "metadata": {
    "scrolled": true
   },
   "outputs": [],
   "source": [
    "print(\"Year by Year Average Growth from 2021 to 2023\")\n",
    "data_2"
   ]
  },
  {
   "cell_type": "code",
   "execution_count": null,
   "id": "6da2fe38",
   "metadata": {},
   "outputs": [],
   "source": [
    "%run AI_driven_Financial_ChatBot_Prototype.py"
   ]
  },
  {
   "cell_type": "code",
   "execution_count": null,
   "id": "38ab1d8f",
   "metadata": {},
   "outputs": [],
   "source": [
    "%run AI_driven_Financial_ChatBot_Prototype.py"
   ]
  },
  {
   "cell_type": "code",
   "execution_count": null,
   "id": "94c9acff",
   "metadata": {},
   "outputs": [],
   "source": [
    "%run AI_driven_Financial_ChatBot_Prototype.py"
   ]
  },
  {
   "cell_type": "code",
   "execution_count": null,
   "id": "58693c16",
   "metadata": {
    "scrolled": false
   },
   "outputs": [],
   "source": [
    "%run AI_driven_Financial_ChatBot_Prototype.py"
   ]
  },
  {
   "cell_type": "code",
   "execution_count": null,
   "id": "aab12484",
   "metadata": {
    "scrolled": false
   },
   "outputs": [],
   "source": [
    "%run AI_driven_Financial_ChatBot_Prototype.py"
   ]
  }
 ],
 "metadata": {
  "kernelspec": {
   "display_name": "Python 3 (ipykernel)",
   "language": "python",
   "name": "python3"
  },
  "language_info": {
   "codemirror_mode": {
    "name": "ipython",
    "version": 3
   },
   "file_extension": ".py",
   "mimetype": "text/x-python",
   "name": "python",
   "nbconvert_exporter": "python",
   "pygments_lexer": "ipython3",
   "version": "3.12.1"
  }
 },
 "nbformat": 4,
 "nbformat_minor": 5
}
